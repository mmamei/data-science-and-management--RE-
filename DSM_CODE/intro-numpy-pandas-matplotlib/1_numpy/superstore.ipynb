{
 "cells": [
  {
   "cell_type": "code",
   "execution_count": 1,
   "id": "8e78b63e",
   "metadata": {},
   "outputs": [],
   "source": [
    "import numpy as np"
   ]
  },
  {
   "cell_type": "code",
   "execution_count": 8,
   "id": "adef78bd",
   "metadata": {},
   "outputs": [
    {
     "name": "stdout",
     "output_type": "stream",
     "text": [
      "(1952, 25)\n"
     ]
    }
   ],
   "source": [
    "# leggi il file '01 - SuperStoreUS-2015.csv' in numpy\n",
    "# il file ha come delimitatore ';' e la prima riga contiene i nomi delle colonne\n",
    "# il file contiene caretteri speciali come \"£\" e \"$\"\n",
    "# salta righe malformate\n",
    "\n",
    "data = np.genfromtxt('01 - SuperStoreUS-2015.csv', delimiter=';',\n",
    "    skip_header=1,\n",
    "    encoding='utf-8',\n",
    "    invalid_raise=False,\n",
    "    comments=None)\n",
    "print(data.shape)"
   ]
  },
  {
   "cell_type": "code",
   "execution_count": 10,
   "id": "7cc4a2a6",
   "metadata": {},
   "outputs": [
    {
     "name": "stdout",
     "output_type": "stream",
     "text": [
      "(1952, 25)\n"
     ]
    }
   ],
   "source": [
    "# leggi il file '01 - SuperStoreUS-2015-orig.csv' con numpy e mantieni le stringhe nei dati\n",
    "\n",
    "data = np.genfromtxt('01 - SuperStoreUS-2015.csv', delimiter=';',\n",
    "    skip_header=1,\n",
    "    dtype='U21',\n",
    "    encoding='utf-8',\n",
    "    invalid_raise=False,\n",
    "    comments=None)\n",
    "print(data.shape)"
   ]
  },
  {
   "cell_type": "code",
   "execution_count": 11,
   "id": "101f4a52",
   "metadata": {},
   "outputs": [],
   "source": [
    "# in numpy voglio sostituire i caratteri , con il  .\n",
    "data = np.char.replace(data, ',', '.')"
   ]
  },
  {
   "cell_type": "code",
   "execution_count": 12,
   "id": "358a7b4c",
   "metadata": {},
   "outputs": [
    {
     "name": "stdout",
     "output_type": "stream",
     "text": [
      "Furniture: 660704.31\n",
      "Technology: 712264.95\n",
      "Office Supplies: 551368.62\n"
     ]
    }
   ],
   "source": [
    "indici = np.where(data[:,9] == 'Furniture')\n",
    "print('Furniture:', data[indici, 23].astype(float).sum())\n",
    "indici = np.where(data[:,9] == 'Technology')\n",
    "print('Technology:', data[indici, 23].astype(float).sum())  \n",
    "indici = np.where(data[:,9] == 'Office Supplies')\n",
    "print('Office Supplies:', data[indici, 23].astype(float).sum())"
   ]
  },
  {
   "cell_type": "code",
   "execution_count": 13,
   "id": "6607715c",
   "metadata": {},
   "outputs": [
    {
     "name": "stdout",
     "output_type": "stream",
     "text": [
      "(1952,)\n"
     ]
    }
   ],
   "source": [
    "data = np.genfromtxt('01 - SuperStoreUS-2015.csv', delimiter=';',\n",
    "    names=True,\n",
    "    dtype=None,\n",
    "    encoding='utf-8',\n",
    "    invalid_raise=False,\n",
    "    comments=None)\n",
    "print(data.shape)"
   ]
  },
  {
   "cell_type": "code",
   "execution_count": 14,
   "id": "734ef772",
   "metadata": {},
   "outputs": [
    {
     "data": {
      "text/plain": [
       "1924337.88"
      ]
     },
     "execution_count": 14,
     "metadata": {},
     "output_type": "execute_result"
    }
   ],
   "source": [
    "np.sum(data['Sales'])"
   ]
  }
 ],
 "metadata": {
  "kernelspec": {
   "display_name": "base",
   "language": "python",
   "name": "python3"
  },
  "language_info": {
   "codemirror_mode": {
    "name": "ipython",
    "version": 3
   },
   "file_extension": ".py",
   "mimetype": "text/x-python",
   "name": "python",
   "nbconvert_exporter": "python",
   "pygments_lexer": "ipython3",
   "version": "3.10.14"
  }
 },
 "nbformat": 4,
 "nbformat_minor": 5
}
