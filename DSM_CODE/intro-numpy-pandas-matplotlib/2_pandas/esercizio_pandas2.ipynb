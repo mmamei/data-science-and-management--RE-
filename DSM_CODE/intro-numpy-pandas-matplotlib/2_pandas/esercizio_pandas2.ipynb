{
 "cells": [
  {
   "cell_type": "markdown",
   "id": "e3d9e7af",
   "metadata": {},
   "source": [
    "# Esercizio 2\n",
    "Confronta i dati di 4 files e crea un unico file con le colonne scelte dei 4 files\n",
    "\n",
    "* leggi i file act e sat 2017 e 2018, visualizza i file e le dimensioni degli stessi\n",
    "* Tieni solo le colonne Sate, Participation, Composite, Total\n",
    "* in America ci sono 51 stati, analizza eventuali errori e correggi\n",
    "* Verifica che nei file del 2018, National non è impostato. Rimuovi National dappertutto\n",
    "* Controlla discrepanze nei nomi degli stati tra i file del 2017 e quelli del 2018, poi correggi\n",
    "* Check if there are NaN values\n",
    "* Check type of columns and convert to number\n",
    "* Rename columns but State to avoid conflict\n",
    "* merge the dataframe\n",
    "* saved merged csv"
   ]
  },
  {
   "cell_type": "code",
   "execution_count": 21,
   "id": "859d0afc",
   "metadata": {},
   "outputs": [],
   "source": [
    "import pandas as pd"
   ]
  },
  {
   "cell_type": "code",
   "execution_count": 22,
   "id": "5bdfff4e",
   "metadata": {},
   "outputs": [
    {
     "name": "stdout",
     "output_type": "stream",
     "text": [
      "<class 'pandas.core.frame.DataFrame'>\n",
      "RangeIndex: 51 entries, 0 to 50\n",
      "Data columns (total 3 columns):\n",
      " #   Column                  Non-Null Count  Dtype  \n",
      "---  ------                  --------------  -----  \n",
      " 0   State                   51 non-null     object \n",
      " 1   SAT_Participation_2017  51 non-null     float64\n",
      " 2   SAT_Total_2017          51 non-null     int64  \n",
      "dtypes: float64(1), int64(1), object(1)\n",
      "memory usage: 1.3+ KB\n",
      "None\n"
     ]
    },
    {
     "data": {
      "text/html": [
       "<div>\n",
       "<style scoped>\n",
       "    .dataframe tbody tr th:only-of-type {\n",
       "        vertical-align: middle;\n",
       "    }\n",
       "\n",
       "    .dataframe tbody tr th {\n",
       "        vertical-align: top;\n",
       "    }\n",
       "\n",
       "    .dataframe thead th {\n",
       "        text-align: right;\n",
       "    }\n",
       "</style>\n",
       "<table border=\"1\" class=\"dataframe\">\n",
       "  <thead>\n",
       "    <tr style=\"text-align: right;\">\n",
       "      <th></th>\n",
       "      <th>State</th>\n",
       "      <th>SAT_Participation_2017</th>\n",
       "      <th>SAT_Total_2017</th>\n",
       "    </tr>\n",
       "  </thead>\n",
       "  <tbody>\n",
       "    <tr>\n",
       "      <th>0</th>\n",
       "      <td>Alabama</td>\n",
       "      <td>0.05</td>\n",
       "      <td>1165</td>\n",
       "    </tr>\n",
       "    <tr>\n",
       "      <th>1</th>\n",
       "      <td>Alaska</td>\n",
       "      <td>0.38</td>\n",
       "      <td>1080</td>\n",
       "    </tr>\n",
       "    <tr>\n",
       "      <th>2</th>\n",
       "      <td>Arizona</td>\n",
       "      <td>0.30</td>\n",
       "      <td>1116</td>\n",
       "    </tr>\n",
       "  </tbody>\n",
       "</table>\n",
       "</div>"
      ],
      "text/plain": [
       "     State  SAT_Participation_2017  SAT_Total_2017\n",
       "0  Alabama                    0.05            1165\n",
       "1   Alaska                    0.38            1080\n",
       "2  Arizona                    0.30            1116"
      ]
     },
     "execution_count": 22,
     "metadata": {},
     "output_type": "execute_result"
    }
   ],
   "source": [
    "sat17 = pd.read_csv('../../dataset/sat-act/sat_2017.csv')\n",
    "sat17 = sat17.loc[:,['State','Participation','Total']]\n",
    "sat17['Participation'] = pd.to_numeric(sat17['Participation'].str.replace('%','')) / 100\n",
    "sat17.columns = ['State','SAT_Participation_2017','SAT_Total_2017']\n",
    "print(sat17.info())\n",
    "sat17.head(3)"
   ]
  },
  {
   "cell_type": "code",
   "execution_count": 23,
   "id": "2eada030",
   "metadata": {},
   "outputs": [],
   "source": [
    "# la colonna participation è di tipo object perchè è fatta 6%\n"
   ]
  },
  {
   "cell_type": "code",
   "execution_count": 24,
   "id": "5bfafe2e",
   "metadata": {},
   "outputs": [
    {
     "name": "stdout",
     "output_type": "stream",
     "text": [
      "<class 'pandas.core.frame.DataFrame'>\n",
      "RangeIndex: 51 entries, 0 to 50\n",
      "Data columns (total 3 columns):\n",
      " #   Column         Non-Null Count  Dtype  \n",
      "---  ------         --------------  -----  \n",
      " 0   State          51 non-null     object \n",
      " 1   Participation  51 non-null     float64\n",
      " 2   Total          51 non-null     int64  \n",
      "dtypes: float64(1), int64(1), object(1)\n",
      "memory usage: 1.3+ KB\n",
      "None\n"
     ]
    },
    {
     "data": {
      "text/html": [
       "<div>\n",
       "<style scoped>\n",
       "    .dataframe tbody tr th:only-of-type {\n",
       "        vertical-align: middle;\n",
       "    }\n",
       "\n",
       "    .dataframe tbody tr th {\n",
       "        vertical-align: top;\n",
       "    }\n",
       "\n",
       "    .dataframe thead th {\n",
       "        text-align: right;\n",
       "    }\n",
       "</style>\n",
       "<table border=\"1\" class=\"dataframe\">\n",
       "  <thead>\n",
       "    <tr style=\"text-align: right;\">\n",
       "      <th></th>\n",
       "      <th>State</th>\n",
       "      <th>SAT_Participation_2018</th>\n",
       "      <th>SAT_Total_2018</th>\n",
       "    </tr>\n",
       "  </thead>\n",
       "  <tbody>\n",
       "    <tr>\n",
       "      <th>0</th>\n",
       "      <td>Alabama</td>\n",
       "      <td>0.06</td>\n",
       "      <td>1166</td>\n",
       "    </tr>\n",
       "    <tr>\n",
       "      <th>1</th>\n",
       "      <td>Alaska</td>\n",
       "      <td>0.43</td>\n",
       "      <td>1106</td>\n",
       "    </tr>\n",
       "  </tbody>\n",
       "</table>\n",
       "</div>"
      ],
      "text/plain": [
       "     State  SAT_Participation_2018  SAT_Total_2018\n",
       "0  Alabama                    0.06            1166\n",
       "1   Alaska                    0.43            1106"
      ]
     },
     "execution_count": 24,
     "metadata": {},
     "output_type": "execute_result"
    }
   ],
   "source": [
    "sat18 = pd.read_csv('../../dataset/sat-act/sat_2018.csv')\n",
    "sat18 = sat18.loc[:,['State','Participation','Total']]\n",
    "sat18['Participation'] = pd.to_numeric(sat18['Participation'].str.replace('%','')) / 100\n",
    "print(sat18.info())\n",
    "sat18.columns = ['State','SAT_Participation_2018','SAT_Total_2018']\n",
    "sat18.head(2)"
   ]
  },
  {
   "cell_type": "code",
   "execution_count": 25,
   "id": "b9de3b0d",
   "metadata": {},
   "outputs": [
    {
     "name": "stdout",
     "output_type": "stream",
     "text": [
      "<class 'pandas.core.frame.DataFrame'>\n",
      "Index: 51 entries, 1 to 51\n",
      "Data columns (total 3 columns):\n",
      " #   Column                  Non-Null Count  Dtype  \n",
      "---  ------                  --------------  -----  \n",
      " 0   State                   51 non-null     object \n",
      " 1   ACT_Participation_2017  51 non-null     float64\n",
      " 2   ACT_Total_2017          51 non-null     float64\n",
      "dtypes: float64(2), object(1)\n",
      "memory usage: 1.6+ KB\n",
      "None\n"
     ]
    },
    {
     "data": {
      "text/html": [
       "<div>\n",
       "<style scoped>\n",
       "    .dataframe tbody tr th:only-of-type {\n",
       "        vertical-align: middle;\n",
       "    }\n",
       "\n",
       "    .dataframe tbody tr th {\n",
       "        vertical-align: top;\n",
       "    }\n",
       "\n",
       "    .dataframe thead th {\n",
       "        text-align: right;\n",
       "    }\n",
       "</style>\n",
       "<table border=\"1\" class=\"dataframe\">\n",
       "  <thead>\n",
       "    <tr style=\"text-align: right;\">\n",
       "      <th></th>\n",
       "      <th>State</th>\n",
       "      <th>ACT_Participation_2017</th>\n",
       "      <th>ACT_Total_2017</th>\n",
       "    </tr>\n",
       "  </thead>\n",
       "  <tbody>\n",
       "    <tr>\n",
       "      <th>1</th>\n",
       "      <td>Alabama</td>\n",
       "      <td>1.00</td>\n",
       "      <td>19.2</td>\n",
       "    </tr>\n",
       "    <tr>\n",
       "      <th>2</th>\n",
       "      <td>Alaska</td>\n",
       "      <td>0.65</td>\n",
       "      <td>19.8</td>\n",
       "    </tr>\n",
       "    <tr>\n",
       "      <th>3</th>\n",
       "      <td>Arizona</td>\n",
       "      <td>0.62</td>\n",
       "      <td>19.7</td>\n",
       "    </tr>\n",
       "    <tr>\n",
       "      <th>4</th>\n",
       "      <td>Arkansas</td>\n",
       "      <td>1.00</td>\n",
       "      <td>19.4</td>\n",
       "    </tr>\n",
       "    <tr>\n",
       "      <th>5</th>\n",
       "      <td>California</td>\n",
       "      <td>0.31</td>\n",
       "      <td>22.8</td>\n",
       "    </tr>\n",
       "  </tbody>\n",
       "</table>\n",
       "</div>"
      ],
      "text/plain": [
       "        State  ACT_Participation_2017  ACT_Total_2017\n",
       "1     Alabama                    1.00            19.2\n",
       "2      Alaska                    0.65            19.8\n",
       "3     Arizona                    0.62            19.7\n",
       "4    Arkansas                    1.00            19.4\n",
       "5  California                    0.31            22.8"
      ]
     },
     "execution_count": 25,
     "metadata": {},
     "output_type": "execute_result"
    }
   ],
   "source": [
    "act17 = pd.read_csv('../../dataset/sat-act/act_2017.csv')\n",
    "act17 = act17.loc[:,['State','Participation','Composite']]\n",
    "act17 = act17.loc[act17['State'] != 'National']\n",
    "act17.loc[act17['Composite'] == '20.2x',:] = '20.2'\n",
    "act17['Participation'] = pd.to_numeric(act17['Participation'].str.replace('%','')) / 100\n",
    "act17['Composite'] = pd.to_numeric(act17['Composite'])\n",
    "act17.columns = ['State','ACT_Participation_2017','ACT_Total_2017']\n",
    "print(act17.info())\n",
    "act17.head(5)"
   ]
  },
  {
   "cell_type": "code",
   "execution_count": 26,
   "id": "4f013613",
   "metadata": {},
   "outputs": [
    {
     "name": "stdout",
     "output_type": "stream",
     "text": [
      "<class 'pandas.core.frame.DataFrame'>\n",
      "Index: 51 entries, 0 to 51\n",
      "Data columns (total 3 columns):\n",
      " #   Column                  Non-Null Count  Dtype  \n",
      "---  ------                  --------------  -----  \n",
      " 0   State                   51 non-null     object \n",
      " 1   ACT_Participation_2018  51 non-null     float64\n",
      " 2   ACT_Total_2018          51 non-null     float64\n",
      "dtypes: float64(2), object(1)\n",
      "memory usage: 1.6+ KB\n",
      "None\n"
     ]
    },
    {
     "data": {
      "text/html": [
       "<div>\n",
       "<style scoped>\n",
       "    .dataframe tbody tr th:only-of-type {\n",
       "        vertical-align: middle;\n",
       "    }\n",
       "\n",
       "    .dataframe tbody tr th {\n",
       "        vertical-align: top;\n",
       "    }\n",
       "\n",
       "    .dataframe thead th {\n",
       "        text-align: right;\n",
       "    }\n",
       "</style>\n",
       "<table border=\"1\" class=\"dataframe\">\n",
       "  <thead>\n",
       "    <tr style=\"text-align: right;\">\n",
       "      <th></th>\n",
       "      <th>State</th>\n",
       "      <th>ACT_Participation_2018</th>\n",
       "      <th>ACT_Total_2018</th>\n",
       "    </tr>\n",
       "  </thead>\n",
       "  <tbody>\n",
       "    <tr>\n",
       "      <th>0</th>\n",
       "      <td>Maine</td>\n",
       "      <td>0.07</td>\n",
       "      <td>24.0</td>\n",
       "    </tr>\n",
       "    <tr>\n",
       "      <th>1</th>\n",
       "      <td>Rhode Island</td>\n",
       "      <td>0.15</td>\n",
       "      <td>24.2</td>\n",
       "    </tr>\n",
       "    <tr>\n",
       "      <th>2</th>\n",
       "      <td>New Hampshire</td>\n",
       "      <td>0.16</td>\n",
       "      <td>25.1</td>\n",
       "    </tr>\n",
       "    <tr>\n",
       "      <th>3</th>\n",
       "      <td>Delaware</td>\n",
       "      <td>0.17</td>\n",
       "      <td>23.8</td>\n",
       "    </tr>\n",
       "    <tr>\n",
       "      <th>4</th>\n",
       "      <td>Pennsylvania</td>\n",
       "      <td>0.20</td>\n",
       "      <td>23.5</td>\n",
       "    </tr>\n",
       "    <tr>\n",
       "      <th>5</th>\n",
       "      <td>Michigan</td>\n",
       "      <td>0.22</td>\n",
       "      <td>24.2</td>\n",
       "    </tr>\n",
       "    <tr>\n",
       "      <th>6</th>\n",
       "      <td>Vermont</td>\n",
       "      <td>0.24</td>\n",
       "      <td>24.1</td>\n",
       "    </tr>\n",
       "    <tr>\n",
       "      <th>7</th>\n",
       "      <td>Virginia</td>\n",
       "      <td>0.24</td>\n",
       "      <td>23.9</td>\n",
       "    </tr>\n",
       "    <tr>\n",
       "      <th>8</th>\n",
       "      <td>Washington</td>\n",
       "      <td>0.24</td>\n",
       "      <td>22.2</td>\n",
       "    </tr>\n",
       "    <tr>\n",
       "      <th>9</th>\n",
       "      <td>Massachusetts</td>\n",
       "      <td>0.25</td>\n",
       "      <td>25.5</td>\n",
       "    </tr>\n",
       "  </tbody>\n",
       "</table>\n",
       "</div>"
      ],
      "text/plain": [
       "           State  ACT_Participation_2018  ACT_Total_2018\n",
       "0          Maine                    0.07            24.0\n",
       "1   Rhode Island                    0.15            24.2\n",
       "2  New Hampshire                    0.16            25.1\n",
       "3       Delaware                    0.17            23.8\n",
       "4   Pennsylvania                    0.20            23.5\n",
       "5       Michigan                    0.22            24.2\n",
       "6        Vermont                    0.24            24.1\n",
       "7       Virginia                    0.24            23.9\n",
       "8     Washington                    0.24            22.2\n",
       "9  Massachusetts                    0.25            25.5"
      ]
     },
     "execution_count": 26,
     "metadata": {},
     "output_type": "execute_result"
    }
   ],
   "source": [
    "act18 = pd.read_csv('../../dataset/sat-act/act_2018.csv')\n",
    "act18 = act18.loc[:,['State','Participation','Composite']]\n",
    "act18 = act18.loc[act18['State'] != 'National']\n",
    "act18.loc[act18['State'] == 'Washington, D.C.', 'State'] = 'District of Columbia'\n",
    "act18 = act18.drop(52)\n",
    "act18['Participation'] = pd.to_numeric(act18['Participation'].str.replace('%','')) / 100\n",
    "act18['Composite'] = pd.to_numeric(act18['Composite'])\n",
    "act18.columns = ['State','ACT_Participation_2018','ACT_Total_2018']\n",
    "print(act18.info())\n",
    "act18.head(10)"
   ]
  },
  {
   "cell_type": "code",
   "execution_count": 29,
   "id": "61807c4e",
   "metadata": {},
   "outputs": [],
   "source": [
    "result = sat17.merge(sat18, on='State').merge(act17, on='State').merge(act18, on='State')"
   ]
  },
  {
   "cell_type": "code",
   "execution_count": 32,
   "id": "6e07b064",
   "metadata": {},
   "outputs": [],
   "source": [
    "result.to_csv('sat_act_2017_2018.csv', index=False)\n"
   ]
  }
 ],
 "metadata": {
  "kernelspec": {
   "display_name": "venv",
   "language": "python",
   "name": "python3"
  },
  "language_info": {
   "codemirror_mode": {
    "name": "ipython",
    "version": 3
   },
   "file_extension": ".py",
   "mimetype": "text/x-python",
   "name": "python",
   "nbconvert_exporter": "python",
   "pygments_lexer": "ipython3",
   "version": "3.12.2"
  }
 },
 "nbformat": 4,
 "nbformat_minor": 5
}
