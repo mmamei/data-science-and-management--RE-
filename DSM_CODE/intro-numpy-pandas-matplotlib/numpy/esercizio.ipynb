{
 "cells": [
  {
   "cell_type": "code",
   "execution_count": 1,
   "id": "fb0a69da",
   "metadata": {},
   "outputs": [
    {
     "name": "stdout",
     "output_type": "stream",
     "text": [
      "Array originale (6 mesi x 3 prodotti):\n",
      "[[120.  80.  95.]\n",
      " [100.  75. 110.]\n",
      " [130.  90. 105.]\n",
      " [125.  85. 100.]\n",
      " [140. 100. 120.]\n",
      " [135.  95. 115.]]\n",
      "Dati in formato piatto: [120.  80.  95. 100.  75. 110. 130.  90. 105. 125.  85. 100. 140. 100.\n",
      " 120. 135.  95. 115.]\n",
      "Dati per prodotto (3 x 6):\n",
      "[[120. 100. 130. 125. 140. 135.]\n",
      " [ 80.  75.  90.  85. 100.  95.]\n",
      " [ 95. 110. 105. 100. 120. 115.]]\n",
      "Totali mensili: [295. 285. 325. 310. 360. 345.]\n",
      "Totali per prodotto: [750. 525. 645.]\n"
     ]
    }
   ],
   "source": [
    "import numpy as np\n",
    "\n",
    "# 1. Carica i dati saltando la prima riga (intestazione)\n",
    "dati = np.genfromtxt(\"vendite.csv\", delimiter=\",\", skip_header=1, usecols=(1,2,3))\n",
    "\n",
    "print(\"Array originale (6 mesi x 3 prodotti):\")\n",
    "print(dati)\n",
    "\n",
    "# 2. Reshape a vettore piatto (18 valori)\n",
    "flat = dati.reshape(-1)\n",
    "print(\"Dati in formato piatto:\", flat)\n",
    "\n",
    "# 3. Reshape a (3,6) -> righe = prodotti, colonne = mesi\n",
    "prodotti = dati.reshape(6, 3).T   # oppure: dati.T\n",
    "print(\"Dati per prodotto (3 x 6):\")\n",
    "print(prodotti)\n",
    "\n",
    "# 4a. Somma per mese\n",
    "tot_mese = dati.sum(axis=1)\n",
    "print(\"Totali mensili:\", tot_mese)\n",
    "\n",
    "# 4b. Somma per prodotto\n",
    "tot_prod = prodotti.sum(axis=1)\n",
    "print(\"Totali per prodotto:\", tot_prod)\n"
   ]
  }
 ],
 "metadata": {
  "kernelspec": {
   "display_name": "venv",
   "language": "python",
   "name": "python3"
  },
  "language_info": {
   "codemirror_mode": {
    "name": "ipython",
    "version": 3
   },
   "file_extension": ".py",
   "mimetype": "text/x-python",
   "name": "python",
   "nbconvert_exporter": "python",
   "pygments_lexer": "ipython3",
   "version": "3.12.2"
  }
 },
 "nbformat": 4,
 "nbformat_minor": 5
}
